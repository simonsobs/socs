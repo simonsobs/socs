{
 "cells": [
  {
   "cell_type": "markdown",
   "metadata": {},
   "source": [
    "This code establishes a connection to a compressor and returns data outside of OCS for easy testing"
   ]
  },
  {
   "cell_type": "code",
   "execution_count": 9,
   "metadata": {},
   "outputs": [],
   "source": [
    "#Input the correct IP address. Running this cell establishes connection to the compressor\n",
    "\n",
    "import sys, os\n",
    "import binascii\n",
    "import time\n",
    "import struct\n",
    "import socket\n",
    "import signal\n",
    "import errno\n",
    "from contextlib import contextmanager\n",
    "from ocs import site_config, ocs_agent\n",
    "from ocs.ocs_twisted import TimeoutLock\n",
    "\n",
    "#Input information\n",
    "ip_address = \"10.10.10.197\"\n",
    "port = 502\n",
    "timeout=10\n",
    "\n",
    "#Establish connection\n",
    "comm = socket.socket(socket.AF_INET, socket.SOCK_STREAM)\n",
    "comm.connect((ip_address, port)) #connects to the PTC\n",
    "comm.settimeout(timeout)\n",
    "\n",
    "#Function definitions\n",
    "def buildRegistersQuery():\n",
    "    query = bytes([0x09, 0x99,  # Message ID\n",
    "                   0x00, 0x00,  # Unused\n",
    "                   0x00, 0x06,  # Message size in bytes\n",
    "                   0x01,        # Slave Address\n",
    "                   0x04,        # Function Code  3= Read HOLDING registers, 4 read INPUT registers\n",
    "                   0x00,0x01,   # The starting Register Number\n",
    "                   0x00,0x35])  # How many to read\n",
    "    return query\n",
    "    \n",
    "def breakdownReplyData(rawdata):\n",
    "    \"\"\"\n",
    "    Take in raw ptc data, and return a dictionary. The dictionary keys are the data labels, \n",
    "    the dictionary values are the data in floats or ints. \n",
    "    \"\"\"\n",
    "\n",
    "    #Associations between keys and their location in rawData\n",
    "    keyloc = {\"Operating State\": [9,10], \"Pump State\": [11, 12], \"Warnings\": [15, 16, 13, 14], \"Alarms\":[19, 20, 17, 18],\n",
    "              \"Coolant In\": [22, 21, 24, 23], \"Coolant Out\": [26, 25, 28, 27], \"Oil\": [30, 29, 32, 31], \n",
    "              \"Helium\": [34, 33, 36, 35], \"Low Pressure\": [38, 37, 40, 39], \"Low Pressure Average\":[42, 41, 44, 43],\n",
    "              \"High Pressure\": [46,45,48,47], \"High Pressure Average\": [50, 49, 52, 51], \"Delta Pressure\": [54, 53, 56, 55],\n",
    "              \"Motor Current\": [58, 57, 60, 59]}\n",
    "\n",
    "    #Iterate through all keys and return the data in a usable format. If there is an error in the string format, print the  \n",
    "    # error to logs, return an empty dictionary, and flag the data as bad\n",
    "    data = {}\n",
    "\n",
    "    try:\n",
    "        for key in keyloc.keys():\n",
    "            locs = keyloc[key] \n",
    "            wkrBytes = bytes([rawdata[loc] for loc in locs])\n",
    "\n",
    "            #three different data formats to unpack\n",
    "            if key in [\"Operating State\", \"Pump State\"]:\n",
    "                state = int.from_bytes(wkrBytes, byteorder='big')\n",
    "                data[key] = state\n",
    "\n",
    "            if key in [\"Warnings\", \"Alarms\"]:\n",
    "                data[key] = int(''.join('{:02x}'.format(x) for x in wkrBytes), 16)\n",
    "\n",
    "            if key in [\"Coolant In\", \"Coolant Out\", \"Oil\", \"Helium\", \"Low Pressure\", \"Low Pressure Average\",\"High Pressure\", \"High Pressure Average\", \"Delta Pressure\",\"Motor Current\"]:\n",
    "                data[key] = struct.unpack('f', wkrBytes)[0]\n",
    "\n",
    "        data_flag = False\n",
    "\n",
    "    except:\n",
    "        data_flag = True\n",
    "        print(f\"Compressor output could not be converted to numbers. Skipping this data block. Bad output string is {rawdata}\")\n",
    "\n",
    "    return data_flag, data"
   ]
  },
  {
   "cell_type": "code",
   "execution_count": 26,
   "metadata": {},
   "outputs": [
    {
     "name": "stdout",
     "output_type": "stream",
     "text": [
      "Valid output string True\n",
      "{'Operating State': 0, 'Pump State': 0, 'Warnings': 2147483648, 'Alarms': 2147483648, 'Coolant In': 57.77899932861328, 'Coolant Out': 57.32099914550781, 'Oil': 58.231998443603516, 'Helium': 58.981998443603516, 'Low Pressure': 233.12701416015625, 'Low Pressure Average': 233.4343719482422, 'High Pressure': 233.38519287109375, 'High Pressure Average': 233.48719787597656, 'Delta Pressure': 0.2581787109375, 'Motor Current': 0.21987999975681305}\n"
     ]
    }
   ],
   "source": [
    "#Get one data block\n",
    "\n",
    "comm.sendall(buildRegistersQuery()) \n",
    "data = comm.recv(1024)\n",
    "data_flag, brd = breakdownReplyData(data)\n",
    "print(\"Valid output string {}\".format(not data_flag))\n",
    "print(brd)"
   ]
  },
  {
   "cell_type": "code",
   "execution_count": null,
   "metadata": {},
   "outputs": [],
   "source": []
  }
 ],
 "metadata": {
  "kernelspec": {
   "display_name": "Python 3",
   "language": "python",
   "name": "python3"
  },
  "language_info": {
   "codemirror_mode": {
    "name": "ipython",
    "version": 3
   },
   "file_extension": ".py",
   "mimetype": "text/x-python",
   "name": "python",
   "nbconvert_exporter": "python",
   "pygments_lexer": "ipython3",
   "version": "3.6.9"
  }
 },
 "nbformat": 4,
 "nbformat_minor": 2
}
